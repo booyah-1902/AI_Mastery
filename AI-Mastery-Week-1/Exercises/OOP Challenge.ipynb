{
 "cells": [
  {
   "cell_type": "code",
   "execution_count": null,
   "id": "d4648b75",
   "metadata": {},
   "outputs": [],
   "source": [
    "class Account:\n",
    "    def __init__ (self, owner, balance):\n",
    "        self.owner = owner\n",
    "        self.balance = balance\n",
    "\n",
    "    def __str__(self):\n",
    "        return(f\"Account owner: {self.owner}\\nAccount balance: {self.balance}\")\n",
    "\n",
    "    def deposit(self, deposit_amount):\n",
    "        self.balance += deposit_amount\n",
    "        print(f\"Added {deposit_amount} to your balance\")\n",
    "\n",
    "    def withdraw(self, withdrawal_amount):\n",
    "        # Withdrawals may not exceed the available balance\n",
    "        if self.balance < withdrawal_amount:\n",
    "            print(\"Funds unavailable\")\n",
    "        else:\n",
    "            self.balance -= withdrawal_amount\n",
    "            print(f\"{withdrawal_amount} withdrawed from your balance\")"
   ]
  },
  {
   "cell_type": "code",
   "execution_count": 16,
   "id": "9597e991",
   "metadata": {},
   "outputs": [],
   "source": [
    "acct1 = Account(\"Ayyub\", 100)"
   ]
  },
  {
   "cell_type": "code",
   "execution_count": 17,
   "id": "b78169db",
   "metadata": {},
   "outputs": [
    {
     "name": "stdout",
     "output_type": "stream",
     "text": [
      "Added 50 to your balance\n"
     ]
    }
   ],
   "source": [
    "acct1.deposit(50)"
   ]
  },
  {
   "cell_type": "code",
   "execution_count": 18,
   "id": "2d3ae950",
   "metadata": {},
   "outputs": [
    {
     "name": "stdout",
     "output_type": "stream",
     "text": [
      "50 withdrawed from your balance\n"
     ]
    }
   ],
   "source": [
    "acct1.withdraw(50)"
   ]
  },
  {
   "cell_type": "code",
   "execution_count": 19,
   "id": "a517ec9f",
   "metadata": {},
   "outputs": [
    {
     "name": "stdout",
     "output_type": "stream",
     "text": [
      "Funds unavailable\n"
     ]
    }
   ],
   "source": [
    "acct1.withdraw(500)"
   ]
  }
 ],
 "metadata": {
  "kernelspec": {
   "display_name": "Python 3",
   "language": "python",
   "name": "python3"
  },
  "language_info": {
   "codemirror_mode": {
    "name": "ipython",
    "version": 3
   },
   "file_extension": ".py",
   "mimetype": "text/x-python",
   "name": "python",
   "nbconvert_exporter": "python",
   "pygments_lexer": "ipython3",
   "version": "3.13.5"
  }
 },
 "nbformat": 4,
 "nbformat_minor": 5
}
