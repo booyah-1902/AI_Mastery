{
 "cells": [
  {
   "cell_type": "markdown",
   "metadata": {},
   "source": [
    "# Web Scraping Exercises \n",
    "\n",
    "## Complete the Tasks Below"
   ]
  },
  {
   "cell_type": "markdown",
   "metadata": {},
   "source": [
    "**TASK: Import any libraries you think you'll need to scrape a website.**"
   ]
  },
  {
   "cell_type": "code",
   "execution_count": null,
   "metadata": {
    "collapsed": true
   },
   "outputs": [],
   "source": [
    "import requests"
   ]
  },
  {
   "cell_type": "code",
   "execution_count": null,
   "metadata": {
    "collapsed": true
   },
   "outputs": [],
   "source": [
    "import bs4"
   ]
  },
  {
   "cell_type": "markdown",
   "metadata": {},
   "source": [
    "**TASK: Use requests library and BeautifulSoup to connect to http://quotes.toscrape.com/ and get the HMTL text from the homepage.**"
   ]
  },
  {
   "cell_type": "code",
   "execution_count": null,
   "metadata": {
    "collapsed": true
   },
   "outputs": [],
   "source": [
    "import requests\n",
    "import bs4\n",
    "\n",
    "page = 1\n",
    "base_url = f'https://quotes.toscrape.com/page/{page}/'\n",
    "\n",
    "result = requests.get(base_url)\n",
    "soup = bs4.BeautifulSoup(result.text, \"lxml\")\n"
   ]
  },
  {
   "cell_type": "code",
   "execution_count": null,
   "metadata": {
    "collapsed": true
   },
   "outputs": [],
   "source": [
    "soup"
   ]
  },
  {
   "cell_type": "code",
   "execution_count": null,
   "metadata": {},
   "outputs": [],
   "source": []
  },
  {
   "cell_type": "markdown",
   "metadata": {},
   "source": [
    "**TASK: Get the names of all the authors on the first page.**"
   ]
  },
  {
   "cell_type": "code",
   "execution_count": null,
   "metadata": {
    "collapsed": true
   },
   "outputs": [],
   "source": [
    "authors_list = soup.select('small.author')\n",
    "authors = []\n",
    "\n",
    "for author in authors_list:\n",
    "    authors.append(author.get_text())\n",
    "\n",
    "authors = set(authors)\n",
    "\n",
    "# authors = set()\n",
    "#\n",
    "# for name in soup.select(\".author\"):\n",
    "#   authors.add(name.text)\n"
   ]
  },
  {
   "cell_type": "code",
   "execution_count": null,
   "metadata": {},
   "outputs": [],
   "source": [
    "authors"
   ]
  },
  {
   "cell_type": "markdown",
   "metadata": {},
   "source": [
    "**TASK: Create a list of all the quotes on the first page.**"
   ]
  },
  {
   "cell_type": "code",
   "execution_count": null,
   "metadata": {
    "collapsed": true
   },
   "outputs": [],
   "source": [
    "quotes_list = soup.select('span.text')\n",
    "quotes = []\n",
    "\n",
    "for quote in quotes_list:\n",
    "    quotes.append(quote.get_text())\n",
    "\n",
    "# quotes = []\n",
    "#\n",
    "# for quote in soup.select(\".text\"):\n",
    "#   quotes.append(quote.text)\n"
   ]
  },
  {
   "cell_type": "code",
   "execution_count": null,
   "metadata": {},
   "outputs": [],
   "source": [
    "quotes"
   ]
  },
  {
   "cell_type": "markdown",
   "metadata": {},
   "source": [
    "**TASK: Inspect the site and use Beautiful Soup to extract the top ten tags from the requests text shown on the top right from the home page (e.g Love,Inspirational,Life, etc...). HINT: Keep in mind there are also tags underneath each quote, try to find a class only present in the top right tags, perhaps check the span.**"
   ]
  },
  {
   "cell_type": "code",
   "execution_count": null,
   "metadata": {
    "collapsed": true
   },
   "outputs": [],
   "source": [
    "tag_list = soup.select('span.tag-item')\n",
    "tags = []\n",
    "\n",
    "for tag in tag_list:\n",
    "    tags.append(tag.get_text(strip=True))\n",
    "\n",
    "# for item in soup.select('.tag-item'):\n",
    "#   print(item.text)"
   ]
  },
  {
   "cell_type": "code",
   "execution_count": null,
   "metadata": {},
   "outputs": [],
   "source": [
    "tags"
   ]
  },
  {
   "cell_type": "markdown",
   "metadata": {},
   "source": [
    "**TASK: Notice how there is more than one page, and subsequent pages look like this http://quotes.toscrape.com/page/2/. Use what you know about for loops and string concatenation to loop through all the pages and get all the unique authors on the website. Keep in mind there are many ways to achieve this, also note that you will need to somehow figure out how to check that your loop is on the last page with quotes. For debugging purposes, I will let you know that there are only 10 pages, so the last page is http://quotes.toscrape.com/page/10/, but try to create a loop that is robust enough that it wouldn't matter to know the amount of pages beforehand, perhaps use try/except for this, its up to you!**"
   ]
  },
  {
   "cell_type": "code",
   "execution_count": null,
   "metadata": {
    "collapsed": true
   },
   "outputs": [],
   "source": [
    "import requests\n",
    "import bs4\n",
    "\n",
    "authors = []\n",
    "page = 1\n",
    "\n",
    "while True:\n",
    "\n",
    "    base_url = f'https://quotes.toscrape.com/page/{page}/'\n",
    "    result = requests.get(base_url)\n",
    "    soup = bs4.BeautifulSoup(result.text, \"lxml\")\n",
    "    authors_list = soup.select('small.author')\n",
    "\n",
    "    for author in authors_list:\n",
    "        authors.append(author.get_text())\n",
    "        \n",
    "    page += 1\n",
    "\n",
    "    if not soup.select('li.next'):\n",
    "        break\n",
    "\n",
    "authors = set(authors)\n",
    "\n",
    "# page_still_valid = True\n",
    "# authors = set()\n",
    "# page = 1\n",
    "\n",
    "# while page_still_valid:\n",
    "\n",
    "#     # Concatenate to get new page URL\n",
    "#     page_url = url+str(page)\n",
    "    \n",
    "#     # Obtain Request\n",
    "#     res = requests.get(page_url)\n",
    "    \n",
    "#     # Check to see if we're on the last page\n",
    "#     if \"No quotes found!\" in res.text:\n",
    "#         break\n",
    "    \n",
    "#     # Turn into Soup\n",
    "#     soup = bs4.BeautifulSoup(res.text,'lxml')\n",
    "    \n",
    "#     # Add Authors to our set\n",
    "#     for name in soup.select(\".author\"):\n",
    "#         authors.add(name.text)\n",
    "        \n",
    "#     # Go to Next Page\n",
    "#     page += 1"
   ]
  },
  {
   "cell_type": "code",
   "execution_count": null,
   "metadata": {},
   "outputs": [],
   "source": [
    "authors"
   ]
  },
  {
   "cell_type": "markdown",
   "metadata": {},
   "source": [
    "There are lots of other potential solutions that are even more robust and flexible, the main idea is the same though, use a while loop to cycle through potential pages and have a break condition based on the invalid page."
   ]
  }
 ],
 "metadata": {
  "kernelspec": {
   "display_name": "Python 3",
   "language": "python",
   "name": "python3"
  },
  "language_info": {
   "codemirror_mode": {
    "name": "ipython",
    "version": 3
   },
   "file_extension": ".py",
   "mimetype": "text/x-python",
   "name": "python",
   "nbconvert_exporter": "python",
   "pygments_lexer": "ipython3",
   "version": "3.13.5"
  }
 },
 "nbformat": 4,
 "nbformat_minor": 2
}
