{
 "cells": [
  {
   "cell_type": "code",
   "execution_count": 42,
   "id": "a6ea5c93",
   "metadata": {},
   "outputs": [],
   "source": [
    "# TITANIC DATA ANALYSIS RESULTS\n",
    "# =============================\n",
    "\n",
    "# Total passengers: 891\n",
    "# Overall survival rate: 38.4%\n",
    "\n",
    "# --- Survival by Gender ---\n",
    "# Male survival rate: 18.9%\n",
    "# Female survival rate: 74.2%\n",
    "\n",
    "# --- Survival by Class ---\n",
    "# 1st Class: 62.9%\n",
    "# 2nd Class: 47.3%\n",
    "# 3rd Class: 24.2%\n",
    "\n",
    "# --- Age Stats ---\n",
    "# Average Age: 29.7\n",
    "# Median Age: 28\n",
    "# Youngest Passenger: 0.42\n",
    "# Oldest Passenger: 80\n",
    "\n",
    "# --- Fare Analysis ---\n",
    "# Average Fare: £32.20\n",
    "# Highest Fare: £512.33\n",
    "# Average Fare of Survivors: £48.40\n",
    "# Average Fare of Non-Survivors: £22.20\n",
    "\n",
    "# --- Family Size Impact ---\n",
    "# Solo travelers survival: 30.5%\n",
    "# Passengers with family survival: 50.1%\n",
    "\n",
    "# --- Embarkation Port ---\n",
    "# C: 168 passengers, survival 55%\n",
    "# Q: 77 passengers, survival 38%\n",
    "# S: 644 passengers, survival 34%"
   ]
  },
  {
   "cell_type": "code",
   "execution_count": 43,
   "id": "c27dea81",
   "metadata": {},
   "outputs": [
    {
     "name": "stdout",
     "output_type": "stream",
     "text": [
      "Average Age: 29.70\n"
     ]
    }
   ],
   "source": [
    "import csv\n",
    "\n",
    "# Read the CSV once and store as a list of dictionaries\n",
    "with open(\"train.csv\", \"r\", encoding=\"utf-8\", newline='') as file:\n",
    "    passengers = list(csv.DictReader(file))\n",
    "\n",
    "# Example: extract any column easily using list comprehension\n",
    "# Just change the key name (e.g., \"Age\", \"Name\", \"Fare\")\n",
    "ages = [float(p[\"Age\"]) for p in passengers if p[\"Age\"].strip()]\n",
    "avg_age = sum(ages) / len(ages)\n",
    "\n",
    "print(f\"Average Age: {avg_age:.2f}\")"
   ]
  },
  {
   "cell_type": "code",
   "execution_count": null,
   "id": "a06b333e",
   "metadata": {},
   "outputs": [
    {
     "data": {
      "text/plain": [
       "29.69911764705882"
      ]
     },
     "execution_count": 44,
     "metadata": {},
     "output_type": "execute_result"
    }
   ],
   "source": []
  }
 ],
 "metadata": {
  "kernelspec": {
   "display_name": "Python 3",
   "language": "python",
   "name": "python3"
  },
  "language_info": {
   "codemirror_mode": {
    "name": "ipython",
    "version": 3
   },
   "file_extension": ".py",
   "mimetype": "text/x-python",
   "name": "python",
   "nbconvert_exporter": "python",
   "pygments_lexer": "ipython3",
   "version": "3.13.5"
  }
 },
 "nbformat": 4,
 "nbformat_minor": 5
}
