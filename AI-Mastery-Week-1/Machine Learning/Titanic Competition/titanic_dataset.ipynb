{
 "cells": [
  {
   "cell_type": "code",
   "execution_count": null,
   "id": "c27dea81",
   "metadata": {},
   "outputs": [],
   "source": [
    "import csv\n",
    "\n",
    "with open(\"train.csv\", \"r\") as file:\n",
    "    lines = file.readlines()\n",
    "\n",
    "headers = lines[0].strip().split(\",\")\n",
    "data = "
   ]
  },
  {
   "cell_type": "code",
   "execution_count": null,
   "id": "65ace0a2",
   "metadata": {},
   "outputs": [],
   "source": []
  }
 ],
 "metadata": {
  "kernelspec": {
   "display_name": "Python 3",
   "language": "python",
   "name": "python3"
  },
  "language_info": {
   "codemirror_mode": {
    "name": "ipython",
    "version": 3
   },
   "file_extension": ".py",
   "mimetype": "text/x-python",
   "name": "python",
   "nbconvert_exporter": "python",
   "pygments_lexer": "ipython3",
   "version": "3.13.5"
  }
 },
 "nbformat": 4,
 "nbformat_minor": 5
}
